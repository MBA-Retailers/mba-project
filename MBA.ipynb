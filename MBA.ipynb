{
 "cells": [
  {
   "cell_type": "markdown",
   "id": "c43c35df-37d9-4b13-b82a-7c52b01ff121",
   "metadata": {},
   "source": [
    "# Step 1 | Initialization"
   ]
  },
  {
   "cell_type": "markdown",
   "id": "3dcad916-bb71-44db-8697-eceba4314c2b",
   "metadata": {},
   "source": [
    "#### Step 1.1 | Importing Necessary Libraries"
   ]
  },
  {
   "cell_type": "code",
   "execution_count": 2,
   "id": "d8208f56-c8ad-48de-a9f6-324a29436e3c",
   "metadata": {},
   "outputs": [
    {
     "name": "stderr",
     "output_type": "stream",
     "text": [
      "/var/folders/d3/mb3yqvls6894k9653zg1_86m0000gp/T/ipykernel_79844/786021442.py:3: DeprecationWarning: \n",
      "Pyarrow will become a required dependency of pandas in the next major release of pandas (pandas 3.0),\n",
      "(to allow more performant data types, such as the Arrow string type, and better interoperability with other libraries)\n",
      "but was not found to be installed on your system.\n",
      "If this would cause problems for you,\n",
      "please provide us feedback at https://github.com/pandas-dev/pandas/issues/54466\n",
      "        \n",
      "  import pandas as pd\n"
     ]
    }
   ],
   "source": [
    "# Data Handling\n",
    "#===================\n",
    "import pandas as pd\n",
    "\n",
    "# Pattern Mining\n",
    "#===================\n",
    "from mlxtend.frequent_patterns import apriori, association_rules\n",
    "\n",
    "# Visualizations\n",
    "#===================\n",
    "import matplotlib.pyplot as plt\n",
    "import seaborn as sns\n",
    "import plotly.express as px\n",
    "\n",
    "# Warnings\n",
    "#===================\n",
    "import warnings\n",
    "warnings.filterwarnings('ignore')"
   ]
  },
  {
   "cell_type": "markdown",
   "id": "d4204bdc-f0fa-4f08-8356-3f96ebcfd6a0",
   "metadata": {},
   "source": [
    "#### Step 1.2 | Loading the Dataset"
   ]
  },
  {
   "cell_type": "code",
   "execution_count": 3,
   "id": "bfdc5b2f-9872-4775-9598-7a20cec6cad8",
   "metadata": {},
   "outputs": [
    {
     "data": {
      "text/html": [
       "<div>\n",
       "<style scoped>\n",
       "    .dataframe tbody tr th:only-of-type {\n",
       "        vertical-align: middle;\n",
       "    }\n",
       "\n",
       "    .dataframe tbody tr th {\n",
       "        vertical-align: top;\n",
       "    }\n",
       "\n",
       "    .dataframe thead th {\n",
       "        text-align: right;\n",
       "    }\n",
       "</style>\n",
       "<table border=\"1\" class=\"dataframe\">\n",
       "  <thead>\n",
       "    <tr style=\"text-align: right;\">\n",
       "      <th></th>\n",
       "      <th>BillNo</th>\n",
       "      <th>Itemname</th>\n",
       "      <th>Quantity</th>\n",
       "      <th>Date</th>\n",
       "      <th>Price</th>\n",
       "      <th>CustomerID</th>\n",
       "      <th>Country</th>\n",
       "    </tr>\n",
       "  </thead>\n",
       "  <tbody>\n",
       "    <tr>\n",
       "      <th>0</th>\n",
       "      <td>536365</td>\n",
       "      <td>WHITE HANGING HEART T-LIGHT HOLDER</td>\n",
       "      <td>6</td>\n",
       "      <td>01.12.2010 08:26</td>\n",
       "      <td>2,55</td>\n",
       "      <td>17850.0</td>\n",
       "      <td>United Kingdom</td>\n",
       "    </tr>\n",
       "    <tr>\n",
       "      <th>1</th>\n",
       "      <td>536365</td>\n",
       "      <td>WHITE METAL LANTERN</td>\n",
       "      <td>6</td>\n",
       "      <td>01.12.2010 08:26</td>\n",
       "      <td>3,39</td>\n",
       "      <td>17850.0</td>\n",
       "      <td>United Kingdom</td>\n",
       "    </tr>\n",
       "    <tr>\n",
       "      <th>2</th>\n",
       "      <td>536365</td>\n",
       "      <td>CREAM CUPID HEARTS COAT HANGER</td>\n",
       "      <td>8</td>\n",
       "      <td>01.12.2010 08:26</td>\n",
       "      <td>2,75</td>\n",
       "      <td>17850.0</td>\n",
       "      <td>United Kingdom</td>\n",
       "    </tr>\n",
       "    <tr>\n",
       "      <th>3</th>\n",
       "      <td>536365</td>\n",
       "      <td>KNITTED UNION FLAG HOT WATER BOTTLE</td>\n",
       "      <td>6</td>\n",
       "      <td>01.12.2010 08:26</td>\n",
       "      <td>3,39</td>\n",
       "      <td>17850.0</td>\n",
       "      <td>United Kingdom</td>\n",
       "    </tr>\n",
       "    <tr>\n",
       "      <th>4</th>\n",
       "      <td>536365</td>\n",
       "      <td>RED WOOLLY HOTTIE WHITE HEART.</td>\n",
       "      <td>6</td>\n",
       "      <td>01.12.2010 08:26</td>\n",
       "      <td>3,39</td>\n",
       "      <td>17850.0</td>\n",
       "      <td>United Kingdom</td>\n",
       "    </tr>\n",
       "  </tbody>\n",
       "</table>\n",
       "</div>"
      ],
      "text/plain": [
       "   BillNo                             Itemname  Quantity              Date  \\\n",
       "0  536365   WHITE HANGING HEART T-LIGHT HOLDER         6  01.12.2010 08:26   \n",
       "1  536365                  WHITE METAL LANTERN         6  01.12.2010 08:26   \n",
       "2  536365       CREAM CUPID HEARTS COAT HANGER         8  01.12.2010 08:26   \n",
       "3  536365  KNITTED UNION FLAG HOT WATER BOTTLE         6  01.12.2010 08:26   \n",
       "4  536365       RED WOOLLY HOTTIE WHITE HEART.         6  01.12.2010 08:26   \n",
       "\n",
       "  Price  CustomerID         Country  \n",
       "0  2,55     17850.0  United Kingdom  \n",
       "1  3,39     17850.0  United Kingdom  \n",
       "2  2,75     17850.0  United Kingdom  \n",
       "3  3,39     17850.0  United Kingdom  \n",
       "4  3,39     17850.0  United Kingdom  "
      ]
     },
     "execution_count": 3,
     "metadata": {},
     "output_type": "execute_result"
    }
   ],
   "source": [
    "path='dataset/Dataset_1.csv'\n",
    "original_df=pd.read_csv(path,delimiter=';')\n",
    "df=original_df.copy()   #Making a copy of original dataframe if need to preserve original structure\n",
    "df.head()"
   ]
  },
  {
   "cell_type": "markdown",
   "id": "263f3cb8-6dfd-477e-adc6-9840a0987696",
   "metadata": {},
   "source": [
    "# Step 2 | Overview and Data Cleaning"
   ]
  },
  {
   "cell_type": "markdown",
   "id": "b149468b-0028-4aaa-9497-3f5258e46c5c",
   "metadata": {},
   "source": [
    "#### Step 2.1 | Overview"
   ]
  },
  {
   "cell_type": "code",
   "execution_count": null,
   "id": "25fbc5cb-d90e-4562-9fb4-fdfe076310f9",
   "metadata": {},
   "outputs": [
    {
     "name": "stdout",
     "output_type": "stream",
     "text": [
      "##################################################\n",
      "                Dataset Information\n",
      "##################################################\n",
      "The Dataset has 7 columns and 522064 rows.\n",
      "The DataFrame has 5284 duplicated values with 1.01 % and 135496 missing values.\n",
      "<class 'pandas.core.frame.DataFrame'>\n",
      "RangeIndex: 522064 entries, 0 to 522063\n",
      "Data columns (total 7 columns):\n",
      " #   Column      Non-Null Count   Dtype  \n",
      "---  ------      --------------   -----  \n",
      " 0   BillNo      522064 non-null  object \n",
      " 1   Itemname    520609 non-null  object \n",
      " 2   Quantity    522064 non-null  int64  \n",
      " 3   Date        522064 non-null  object \n",
      " 4   Price       522064 non-null  object \n",
      " 5   CustomerID  388023 non-null  float64\n",
      " 6   Country     522064 non-null  object \n",
      "dtypes: float64(1), int64(1), object(5)\n",
      "memory usage: 27.9+ MB\n",
      "None\n"
     ]
    }
   ],
   "source": [
    "print(\"#\" * 50)\n",
    "print(\" \" * 15, \"Dataset Information\")\n",
    "print(\"#\" * 50)\n",
    "print(\"The Dataset has {} columns and {} rows.\".format(df.shape[1], df.shape[0]))\n",
    "print(\"The DataFrame has {} duplicated values with {} % and {} missing values.\".format(df.duplicated().sum(),round((df.duplicated().sum())/len(df)*100,2),df.isnull().sum().sum()))\n",
    "print(df.info())"
   ]
  },
  {
   "cell_type": "markdown",
   "id": "87612039-496e-40fa-a291-17a746d4c312",
   "metadata": {},
   "source": [
    "#### Step 2.2 | Data Cleaning(Handling Duplicates)"
   ]
  },
  {
   "cell_type": "code",
   "execution_count": null,
   "id": "ec92952d-5b72-4ee0-a503-7b8b8fb7abe7",
   "metadata": {},
   "outputs": [],
   "source": [
    "##### In this step we are removing all the duplicate rows (5284) from original dataframe\n",
    "df.drop_duplicates(inplace=True)\n"
   ]
  },
  {
   "cell_type": "markdown",
   "id": "ef9be90c-5dac-4b6b-833e-dedd53a71639",
   "metadata": {},
   "source": [
    "#### Step 2.3 | Data Wrangling(Handling Missing Values)"
   ]
  },
  {
   "cell_type": "code",
   "execution_count": null,
   "id": "621a5c5d-9431-4f3d-82e3-0e374ff02579",
   "metadata": {},
   "outputs": [
    {
     "name": "stdout",
     "output_type": "stream",
     "text": [
      "##############################\n",
      "      Null Distribution\n",
      "##############################\n"
     ]
    },
    {
     "data": {
      "text/html": [
       "<style type=\"text/css\">\n",
       "#T_8e9a8_row0_col0, #T_8e9a8_row0_col1 {\n",
       "  background-color: #00441b;\n",
       "  color: #f1f1f1;\n",
       "}\n",
       "#T_8e9a8_row1_col0, #T_8e9a8_row1_col1 {\n",
       "  background-color: #44034f;\n",
       "  color: #f1f1f1;\n",
       "}\n",
       "#T_8e9a8_row2_col0, #T_8e9a8_row2_col1, #T_8e9a8_row3_col0, #T_8e9a8_row3_col1, #T_8e9a8_row4_col0, #T_8e9a8_row4_col1, #T_8e9a8_row5_col0, #T_8e9a8_row5_col1, #T_8e9a8_row6_col0, #T_8e9a8_row6_col1 {\n",
       "  background-color: #40004b;\n",
       "  color: #f1f1f1;\n",
       "}\n",
       "</style>\n",
       "<table id=\"T_8e9a8\">\n",
       "  <thead>\n",
       "    <tr>\n",
       "      <th class=\"blank level0\" >&nbsp;</th>\n",
       "      <th id=\"T_8e9a8_level0_col0\" class=\"col_heading level0 col0\" >count</th>\n",
       "      <th id=\"T_8e9a8_level0_col1\" class=\"col_heading level0 col1\" >%</th>\n",
       "    </tr>\n",
       "  </thead>\n",
       "  <tbody>\n",
       "    <tr>\n",
       "      <th id=\"T_8e9a8_level0_row0\" class=\"row_heading level0 row0\" >CustomerID</th>\n",
       "      <td id=\"T_8e9a8_row0_col0\" class=\"data row0 col0\" >133967</td>\n",
       "      <td id=\"T_8e9a8_row0_col1\" class=\"data row0 col1\" >25.923410</td>\n",
       "    </tr>\n",
       "    <tr>\n",
       "      <th id=\"T_8e9a8_level0_row1\" class=\"row_heading level0 row1\" >Itemname</th>\n",
       "      <td id=\"T_8e9a8_row1_col0\" class=\"data row1 col0\" >1455</td>\n",
       "      <td id=\"T_8e9a8_row1_col1\" class=\"data row1 col1\" >0.281551</td>\n",
       "    </tr>\n",
       "    <tr>\n",
       "      <th id=\"T_8e9a8_level0_row2\" class=\"row_heading level0 row2\" >BillNo</th>\n",
       "      <td id=\"T_8e9a8_row2_col0\" class=\"data row2 col0\" >0</td>\n",
       "      <td id=\"T_8e9a8_row2_col1\" class=\"data row2 col1\" >0.000000</td>\n",
       "    </tr>\n",
       "    <tr>\n",
       "      <th id=\"T_8e9a8_level0_row3\" class=\"row_heading level0 row3\" >Quantity</th>\n",
       "      <td id=\"T_8e9a8_row3_col0\" class=\"data row3 col0\" >0</td>\n",
       "      <td id=\"T_8e9a8_row3_col1\" class=\"data row3 col1\" >0.000000</td>\n",
       "    </tr>\n",
       "    <tr>\n",
       "      <th id=\"T_8e9a8_level0_row4\" class=\"row_heading level0 row4\" >Date</th>\n",
       "      <td id=\"T_8e9a8_row4_col0\" class=\"data row4 col0\" >0</td>\n",
       "      <td id=\"T_8e9a8_row4_col1\" class=\"data row4 col1\" >0.000000</td>\n",
       "    </tr>\n",
       "    <tr>\n",
       "      <th id=\"T_8e9a8_level0_row5\" class=\"row_heading level0 row5\" >Price</th>\n",
       "      <td id=\"T_8e9a8_row5_col0\" class=\"data row5 col0\" >0</td>\n",
       "      <td id=\"T_8e9a8_row5_col1\" class=\"data row5 col1\" >0.000000</td>\n",
       "    </tr>\n",
       "    <tr>\n",
       "      <th id=\"T_8e9a8_level0_row6\" class=\"row_heading level0 row6\" >Country</th>\n",
       "      <td id=\"T_8e9a8_row6_col0\" class=\"data row6 col0\" >0</td>\n",
       "      <td id=\"T_8e9a8_row6_col1\" class=\"data row6 col1\" >0.000000</td>\n",
       "    </tr>\n",
       "  </tbody>\n",
       "</table>\n"
      ],
      "text/plain": [
       "<pandas.io.formats.style.Styler at 0x28369ec8450>"
      ]
     },
     "execution_count": 54,
     "metadata": {},
     "output_type": "execute_result"
    }
   ],
   "source": [
    "print(\"#\" * 30)\n",
    "print(\" \" * 5, \"Null Distribution\")\n",
    "print(\"#\" * 30)\n",
    "null = df.isnull().sum().to_frame().rename(columns = {0:'count'})\n",
    "null['%'] = (null['count'] / len(df)) * 100.\n",
    "null = null.sort_values(by = '%', ascending = False)\n",
    "null.style.background_gradient(cmap = 'PRGn')"
   ]
  },
  {
   "cell_type": "markdown",
   "id": "fc35b222-b503-4109-bbd4-f6559fc99993",
   "metadata": {},
   "source": [
    "#### Step 2.4 | Data Cleaning (Ensuring Consistency)"
   ]
  },
  {
   "cell_type": "code",
   "execution_count": null,
   "id": "22396bc5-3c81-42ad-9010-6220dd88e9ea",
   "metadata": {},
   "outputs": [],
   "source": [
    "df = df.rename(columns={'Itemname': 'ItemName'})\n",
    "df['ItemName'] = df['ItemName'].str.lower()"
   ]
  },
  {
   "cell_type": "code",
   "execution_count": null,
   "id": "2a4ac33c-b9e0-456b-ada6-6a5385012427",
   "metadata": {},
   "outputs": [],
   "source": [
    "#Dropping Missing rows in CustomerID column\n",
    "df.dropna(subset=['CustomerID'], inplace=True)\n",
    "\n",
    "#Dropping data with negative or zero quantity\n",
    "df=df.loc[df['Quantity']>0]\n",
    "\n",
    "#Dropping data with zero price\n",
    "df=df.loc[df['Price']>'0']\n",
    "\n",
    "#Dropping Non-product data.\n",
    "df=df.loc[(df['ItemName']!='postage')&(df['ItemName']!='dotcom postage')&(df['ItemName']!='adjust bad debt')&(df['ItemName']!='manual')]\n",
    "\n"
   ]
  },
  {
   "cell_type": "markdown",
   "id": "4fbc6809-c153-4aca-9a25-71d6574fd0f0",
   "metadata": {},
   "source": [
    "#### Step 2.5 | Changing Data Types"
   ]
  },
  {
   "cell_type": "code",
   "execution_count": null,
   "id": "0afed41e-a246-4afc-9929-60b46a5ffe61",
   "metadata": {},
   "outputs": [],
   "source": [
    "df['Date'] = pd.to_datetime(df['Date'], format=\"%d.%m.%Y %H:%M\")\n",
    "df['Price'] = df['Price'].str.replace(',','.')\n",
    "df['Price'] = df['Price'].astype('float')\n",
    "df['CustomerID'] = df['CustomerID'].astype('int')"
   ]
  },
  {
   "cell_type": "markdown",
   "id": "ce86a64f-ba9a-4e9b-8e60-78eab552814f",
   "metadata": {},
   "source": [
    "# Step 3 | Data Transformation"
   ]
  },
  {
   "cell_type": "code",
   "execution_count": null,
   "id": "39754ff7-9ada-4659-afb9-ab6e395deecc",
   "metadata": {},
   "outputs": [],
   "source": [
    "#Make Month and year columns separately\n",
    "df['Month'] = df['Date'].dt.month\n",
    "df['Year'] = df['Date'].dt.year\n",
    "df['Day'] = df['Date'].dt.day_name()\n",
    "\n",
    "#Creating a Total price column\n",
    "df['Total price']=df.Quantity*df.Price\n"
   ]
  },
  {
   "cell_type": "code",
   "execution_count": null,
   "id": "d356b41f-d99d-4762-a83b-f7a38f85b838",
   "metadata": {},
   "outputs": [
    {
     "data": {
      "text/html": [
       "<div>\n",
       "<style scoped>\n",
       "    .dataframe tbody tr th:only-of-type {\n",
       "        vertical-align: middle;\n",
       "    }\n",
       "\n",
       "    .dataframe tbody tr th {\n",
       "        vertical-align: top;\n",
       "    }\n",
       "\n",
       "    .dataframe thead th {\n",
       "        text-align: right;\n",
       "    }\n",
       "</style>\n",
       "<table border=\"1\" class=\"dataframe\">\n",
       "  <thead>\n",
       "    <tr style=\"text-align: right;\">\n",
       "      <th></th>\n",
       "      <th>BillNo</th>\n",
       "      <th>ItemName</th>\n",
       "      <th>Quantity</th>\n",
       "      <th>Date</th>\n",
       "      <th>Price</th>\n",
       "      <th>CustomerID</th>\n",
       "      <th>Country</th>\n",
       "      <th>Month</th>\n",
       "      <th>Year</th>\n",
       "      <th>Day</th>\n",
       "      <th>Total price</th>\n",
       "    </tr>\n",
       "  </thead>\n",
       "  <tbody>\n",
       "    <tr>\n",
       "      <th>307294</th>\n",
       "      <td>564842</td>\n",
       "      <td>heart of wicker small</td>\n",
       "      <td>40</td>\n",
       "      <td>2011-08-30 13:47:00</td>\n",
       "      <td>1.45</td>\n",
       "      <td>16133</td>\n",
       "      <td>United Kingdom</td>\n",
       "      <td>8</td>\n",
       "      <td>2011</td>\n",
       "      <td>Tuesday</td>\n",
       "      <td>58.00</td>\n",
       "    </tr>\n",
       "    <tr>\n",
       "      <th>483400</th>\n",
       "      <td>578843</td>\n",
       "      <td>set/10 red polkadot party candles</td>\n",
       "      <td>2</td>\n",
       "      <td>2011-11-25 16:13:00</td>\n",
       "      <td>1.25</td>\n",
       "      <td>17813</td>\n",
       "      <td>United Kingdom</td>\n",
       "      <td>11</td>\n",
       "      <td>2011</td>\n",
       "      <td>Friday</td>\n",
       "      <td>2.50</td>\n",
       "    </tr>\n",
       "    <tr>\n",
       "      <th>180614</th>\n",
       "      <td>552905</td>\n",
       "      <td>enamel flower jug cream</td>\n",
       "      <td>3</td>\n",
       "      <td>2011-05-12 11:10:00</td>\n",
       "      <td>5.95</td>\n",
       "      <td>15974</td>\n",
       "      <td>United Kingdom</td>\n",
       "      <td>5</td>\n",
       "      <td>2011</td>\n",
       "      <td>Thursday</td>\n",
       "      <td>17.85</td>\n",
       "    </tr>\n",
       "    <tr>\n",
       "      <th>319008</th>\n",
       "      <td>566024</td>\n",
       "      <td>alarm clock bakelike red</td>\n",
       "      <td>4</td>\n",
       "      <td>2011-09-08 12:51:00</td>\n",
       "      <td>3.75</td>\n",
       "      <td>13871</td>\n",
       "      <td>United Kingdom</td>\n",
       "      <td>9</td>\n",
       "      <td>2011</td>\n",
       "      <td>Thursday</td>\n",
       "      <td>15.00</td>\n",
       "    </tr>\n",
       "    <tr>\n",
       "      <th>196856</th>\n",
       "      <td>554617</td>\n",
       "      <td>herb marker parsley</td>\n",
       "      <td>1</td>\n",
       "      <td>2011-05-25 11:21:00</td>\n",
       "      <td>0.65</td>\n",
       "      <td>14593</td>\n",
       "      <td>United Kingdom</td>\n",
       "      <td>5</td>\n",
       "      <td>2011</td>\n",
       "      <td>Wednesday</td>\n",
       "      <td>0.65</td>\n",
       "    </tr>\n",
       "  </tbody>\n",
       "</table>\n",
       "</div>"
      ],
      "text/plain": [
       "        BillNo                           ItemName  Quantity  \\\n",
       "307294  564842              heart of wicker small        40   \n",
       "483400  578843  set/10 red polkadot party candles         2   \n",
       "180614  552905            enamel flower jug cream         3   \n",
       "319008  566024           alarm clock bakelike red         4   \n",
       "196856  554617                herb marker parsley         1   \n",
       "\n",
       "                      Date  Price  CustomerID         Country  Month  Year  \\\n",
       "307294 2011-08-30 13:47:00   1.45       16133  United Kingdom      8  2011   \n",
       "483400 2011-11-25 16:13:00   1.25       17813  United Kingdom     11  2011   \n",
       "180614 2011-05-12 11:10:00   5.95       15974  United Kingdom      5  2011   \n",
       "319008 2011-09-08 12:51:00   3.75       13871  United Kingdom      9  2011   \n",
       "196856 2011-05-25 11:21:00   0.65       14593  United Kingdom      5  2011   \n",
       "\n",
       "              Day  Total price  \n",
       "307294    Tuesday        58.00  \n",
       "483400     Friday         2.50  \n",
       "180614   Thursday        17.85  \n",
       "319008   Thursday        15.00  \n",
       "196856  Wednesday         0.65  "
      ]
     },
     "execution_count": 59,
     "metadata": {},
     "output_type": "execute_result"
    }
   ],
   "source": [
    "df.sample(5)"
   ]
  },
  {
   "cell_type": "markdown",
   "id": "0fd8cf41-3d72-4dfc-9f63-498d27534104",
   "metadata": {},
   "source": [
    "# Step 4 | Exploratoty Data Analysis"
   ]
  },
  {
   "cell_type": "markdown",
   "id": "de7b522d-4e70-491b-a3fb-9a8a403abe3c",
   "metadata": {},
   "source": [
    "#### Step 4.1 | Country Selection"
   ]
  },
  {
   "cell_type": "code",
   "execution_count": null,
   "id": "99aff7cc-81aa-4fb7-af68-24819221a25e",
   "metadata": {},
   "outputs": [
    {
     "data": {
      "image/png": "[encoded data removed]",
      "text/plain": [
       "<Figure size 1200x800 with 1 Axes>"
      ]
     },
     "metadata": {},
     "output_type": "display_data"
    }
   ],
   "source": [
    "import pandas as pd\n",
    "import matplotlib.pyplot as plt\n",
    "\n",
    "# Assuming df is your DataFrame\n",
    "result = df.groupby(['Year', 'Month', 'Country'])['Total price'].sum()\n",
    "\n",
    "# Convert the result to a DataFrame for easy plotting\n",
    "result_df = result.reset_index()\n",
    "# result_df=result_df.loc[result_df['Country']!='United Kingdom']\n",
    "\n",
    "# Convert 'Year' and 'Month' to strings\n",
    "result_df['YearMonth'] = result_df['Year'].astype(str) + '-' + result_df['Month'].astype(str)\n",
    "\n",
    "# Plotting\n",
    "plt.figure(figsize=(12, 8))\n",
    "colors = plt.cm.get_cmap('tab10', len(result_df['Country'].unique()))\n",
    "\n",
    "for country, color in zip(result_df['Country'].unique(), colors.colors):\n",
    "    country_data = result_df[result_df['Country'] == country]\n",
    "    plt.bar(country_data['YearMonth'], country_data['Total price'], label=country, color=color)\n",
    "\n",
    "plt.title('Total Price by Year, Month, and Country')\n",
    "plt.xlabel('Year-Month')\n",
    "plt.ylabel('Total Price')\n",
    "plt.legend(title='Country', bbox_to_anchor=(1.05, 1), loc='upper left')\n",
    "plt.xticks(rotation=45, ha='right')  # Rotate x-axis labels for better readability\n",
    "plt.tight_layout()\n",
    "plt.show()\n"
   ]
  },
  {
   "cell_type": "code",
   "execution_count": null,
   "id": "e7b2da23-9d74-4f06-85c6-d2a476fa2429",
   "metadata": {},
   "outputs": [
    {
     "data": {
      "text/html": [
       "<div>\n",
       "<style scoped>\n",
       "    .dataframe tbody tr th:only-of-type {\n",
       "        vertical-align: middle;\n",
       "    }\n",
       "\n",
       "    .dataframe tbody tr th {\n",
       "        vertical-align: top;\n",
       "    }\n",
       "\n",
       "    .dataframe thead th {\n",
       "        text-align: right;\n",
       "    }\n",
       "</style>\n",
       "<table border=\"1\" class=\"dataframe\">\n",
       "  <thead>\n",
       "    <tr style=\"text-align: right;\">\n",
       "      <th></th>\n",
       "      <th>Country</th>\n",
       "      <th>Count</th>\n",
       "      <th>Percentage</th>\n",
       "    </tr>\n",
       "    <tr>\n",
       "      <th>Country</th>\n",
       "      <th></th>\n",
       "      <th></th>\n",
       "      <th></th>\n",
       "    </tr>\n",
       "  </thead>\n",
       "  <tbody>\n",
       "    <tr>\n",
       "      <th>United Kingdom</th>\n",
       "      <td>United Kingdom</td>\n",
       "      <td>348878</td>\n",
       "      <td>91.462922</td>\n",
       "    </tr>\n",
       "    <tr>\n",
       "      <th>Germany</th>\n",
       "      <td>Germany</td>\n",
       "      <td>8643</td>\n",
       "      <td>2.265875</td>\n",
       "    </tr>\n",
       "    <tr>\n",
       "      <th>France</th>\n",
       "      <td>France</td>\n",
       "      <td>8021</td>\n",
       "      <td>2.102810</td>\n",
       "    </tr>\n",
       "    <tr>\n",
       "      <th>Spain</th>\n",
       "      <td>Spain</td>\n",
       "      <td>2417</td>\n",
       "      <td>0.633648</td>\n",
       "    </tr>\n",
       "    <tr>\n",
       "      <th>Netherlands</th>\n",
       "      <td>Netherlands</td>\n",
       "      <td>2322</td>\n",
       "      <td>0.608743</td>\n",
       "    </tr>\n",
       "  </tbody>\n",
       "</table>\n",
       "</div>"
      ],
      "text/plain": [
       "                       Country   Count  Percentage\n",
       "Country                                           \n",
       "United Kingdom  United Kingdom  348878   91.462922\n",
       "Germany                Germany    8643    2.265875\n",
       "France                  France    8021    2.102810\n",
       "Spain                    Spain    2417    0.633648\n",
       "Netherlands        Netherlands    2322    0.608743"
      ]
     },
     "execution_count": 86,
     "metadata": {},
     "output_type": "execute_result"
    }
   ],
   "source": [
    "import pandas as pd\n",
    "\n",
    "# Assuming df is your original DataFrame\n",
    "country_counts = df['Country'].value_counts()\n",
    "total_records = len(df)\n",
    "\n",
    "# Create a new DataFrame\n",
    "country_stats_df = pd.DataFrame({\n",
    "    'Country': country_counts.index,\n",
    "    'Count': country_counts.values,\n",
    "    'Percentage': country_counts / total_records * 100\n",
    "})\n",
    "\n",
    "# Display the DataFrame\n",
    "(country_stats_df).head()\n"
   ]
  },
  {
   "cell_type": "code",
   "execution_count": null,
   "id": "617d58ff-964d-49cd-b974-d33434b434cd",
   "metadata": {},
   "outputs": [],
   "source": [
    "# From this higest records belongs to United Kingdom hence extract data for only United Kingdom.\n",
    "df=df.loc[df['Country'] == 'United Kingdom']\n"
   ]
  },
  {
   "cell_type": "markdown",
   "id": "e3cf1f9c-da5d-4170-b96d-99ac4da343bf",
   "metadata": {},
   "source": [
    "#### Step 4.2 | Categorization"
   ]
  },
  {
   "cell_type": "code",
   "execution_count": null,
   "id": "b2a5788d-7a58-432f-a994-302576eee638",
   "metadata": {},
   "outputs": [
    {
     "data": {
      "text/html": [
       "<div>\n",
       "<style scoped>\n",
       "    .dataframe tbody tr th:only-of-type {\n",
       "        vertical-align: middle;\n",
       "    }\n",
       "\n",
       "    .dataframe tbody tr th {\n",
       "        vertical-align: top;\n",
       "    }\n",
       "\n",
       "    .dataframe thead th {\n",
       "        text-align: right;\n",
       "    }\n",
       "</style>\n",
       "<table border=\"1\" class=\"dataframe\">\n",
       "  <thead>\n",
       "    <tr style=\"text-align: right;\">\n",
       "      <th></th>\n",
       "      <th>ItemName</th>\n",
       "      <th>Quantity</th>\n",
       "    </tr>\n",
       "  </thead>\n",
       "  <tbody>\n",
       "    <tr>\n",
       "      <th>520583</th>\n",
       "      <td>paper craft , little birdie</td>\n",
       "      <td>80995</td>\n",
       "    </tr>\n",
       "    <tr>\n",
       "      <th>59999</th>\n",
       "      <td>medium ceramic top storage jar</td>\n",
       "      <td>74215</td>\n",
       "    </tr>\n",
       "    <tr>\n",
       "      <th>405138</th>\n",
       "      <td>world war 2 gliders asstd designs</td>\n",
       "      <td>4800</td>\n",
       "    </tr>\n",
       "    <tr>\n",
       "      <th>198929</th>\n",
       "      <td>small popcorn holder</td>\n",
       "      <td>4300</td>\n",
       "    </tr>\n",
       "    <tr>\n",
       "      <th>94245</th>\n",
       "      <td>empire design rosette</td>\n",
       "      <td>3906</td>\n",
       "    </tr>\n",
       "    <tr>\n",
       "      <th>260928</th>\n",
       "      <td>essential balm 3.5g tin in envelope</td>\n",
       "      <td>3186</td>\n",
       "    </tr>\n",
       "    <tr>\n",
       "      <th>51228</th>\n",
       "      <td>fairy cake flannel assorted colour</td>\n",
       "      <td>3114</td>\n",
       "    </tr>\n",
       "    <tr>\n",
       "      <th>154834</th>\n",
       "      <td>fairy cake flannel assorted colour</td>\n",
       "      <td>3114</td>\n",
       "    </tr>\n",
       "    <tr>\n",
       "      <th>416997</th>\n",
       "      <td>small chinese style scissor</td>\n",
       "      <td>3000</td>\n",
       "    </tr>\n",
       "    <tr>\n",
       "      <th>280572</th>\n",
       "      <td>assorted colour bird ornament</td>\n",
       "      <td>2880</td>\n",
       "    </tr>\n",
       "  </tbody>\n",
       "</table>\n",
       "</div>"
      ],
      "text/plain": [
       "                                   ItemName  Quantity\n",
       "520583          paper craft , little birdie     80995\n",
       "59999        medium ceramic top storage jar     74215\n",
       "405138    world war 2 gliders asstd designs      4800\n",
       "198929                 small popcorn holder      4300\n",
       "94245                 empire design rosette      3906\n",
       "260928  essential balm 3.5g tin in envelope      3186\n",
       "51228    fairy cake flannel assorted colour      3114\n",
       "154834   fairy cake flannel assorted colour      3114\n",
       "416997          small chinese style scissor      3000\n",
       "280572        assorted colour bird ornament      2880"
      ]
     },
     "execution_count": 104,
     "metadata": {},
     "output_type": "execute_result"
    }
   ],
   "source": [
    "#Top 10 highest sales amount items\n",
    "top_items_price=df[['ItemName','Total price']].sort_values(by='Total price',ascending=False).head(10)\n",
    "\n",
    "#Top 10 most purchased items\n",
    "top_items_quantity=df[['ItemName','Quantity']].sort_values(by='Quantity',ascending=False).head(10)\n",
    "\n",
    "top_items_quantity"
   ]
  },
  {
   "cell_type": "code",
   "execution_count": null,
   "id": "60497dc3-0132-4a5a-be29-f8def7cfe97e",
   "metadata": {},
   "outputs": [
    {
     "data": {
      "image/png": "[encoded data removed]",
      "text/plain": [
       "<Figure size 1000x600 with 1 Axes>"
      ]
     },
     "metadata": {},
     "output_type": "display_data"
    }
   ],
   "source": [
    "frequent_items = df['ItemName'].value_counts().sort_values(ascending=False).head(10)\n",
    "frequent_items.plot(kind='bar', figsize=(10, 6), color='skyblue')\n",
    "\n",
    "plt.title('Frequent Items')\n",
    "plt.xlabel('Item Name')\n",
    "plt.ylabel('Count')\n",
    "plt.show()"
   ]
  },
  {
   "cell_type": "code",
   "execution_count": null,
   "id": "816341e2-8558-44c7-8247-b85d4c0e0b92",
   "metadata": {},
   "outputs": [],
   "source": []
  }
 ],
 "metadata": {
  "kernelspec": {
   "display_name": "Python 3 (ipykernel)",
   "language": "python",
   "name": "python3"
  },
  "language_info": {
   "codemirror_mode": {
    "name": "ipython",
    "version": 3
   },
   "file_extension": ".py",
   "mimetype": "text/x-python",
   "name": "python",
   "nbconvert_exporter": "python",
   "pygments_lexer": "ipython3",
   "version": "3.9.17"
  },
  "widgets": {
   "application/vnd.jupyter.widget-state+json": {
    "state": {},
    "version_major": 2,
    "version_minor": 0
   }
  }
 },
 "nbformat": 4,
 "nbformat_minor": 5
}
